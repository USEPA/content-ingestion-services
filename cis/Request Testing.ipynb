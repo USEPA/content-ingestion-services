{
 "cells": [
  {
   "cell_type": "code",
   "execution_count": 2,
   "metadata": {},
   "outputs": [],
   "source": [
    "import requests\n",
    "import json\n",
    "from cis_requests import *\n",
    "from config import *"
   ]
  },
  {
   "cell_type": "code",
   "execution_count": 4,
   "metadata": {},
   "outputs": [],
   "source": [
    "c = config_from_file(\"../dev_config.json\")"
   ]
  },
  {
   "cell_type": "code",
   "execution_count": 8,
   "metadata": {},
   "outputs": [],
   "source": [
    "sample = \"Hi this is an email from Mike to Jim talking about how we should get those records down to region 5 and then send them to region 10. Thanks!\""
   ]
  },
  {
   "cell_type": "code",
   "execution_count": 9,
   "metadata": {},
   "outputs": [
    {
     "data": {
      "text/plain": [
       "{'prob': 0.8488791584968567, 'last': True, 'cat': '401-1006-b'}"
      ]
     },
     "execution_count": 9,
     "metadata": {},
     "output_type": "execute_result"
    }
   ],
   "source": [
    "deep_detect_classify(sample, c)"
   ]
  },
  {
   "cell_type": "code",
   "execution_count": 10,
   "metadata": {},
   "outputs": [
    {
     "data": {
      "text/plain": [
       "' Hi this is an email from Mike to Jim talking about how we should get those records down to region 5 and then send them to region 10. Thanks!'"
      ]
     },
     "execution_count": 10,
     "metadata": {},
     "output_type": "execute_result"
    }
   ],
   "source": [
    "nlp_buddy_analyze(sample, c)['summary']"
   ]
  },
  {
   "cell_type": "code",
   "execution_count": 39,
   "metadata": {},
   "outputs": [],
   "source": [
    "sample_doc = open('test.docx', 'rb')"
   ]
  },
  {
   "cell_type": "code",
   "execution_count": 40,
   "metadata": {},
   "outputs": [],
   "source": [
    "doc_text = tika(sample_doc, c)"
   ]
  },
  {
   "cell_type": "code",
   "execution_count": 41,
   "metadata": {},
   "outputs": [],
   "source": [
    "sample_doc.close()"
   ]
  },
  {
   "cell_type": "code",
   "execution_count": 42,
   "metadata": {},
   "outputs": [],
   "source": [
    "sample_pdf = open(\"test.pdf\", 'rb')"
   ]
  },
  {
   "cell_type": "code",
   "execution_count": 43,
   "metadata": {},
   "outputs": [],
   "source": [
    "pdf_text = tika(sample_pdf, c)"
   ]
  },
  {
   "cell_type": "code",
   "execution_count": 44,
   "metadata": {},
   "outputs": [],
   "source": [
    "sample_pdf.close()"
   ]
  },
  {
   "cell_type": "code",
   "execution_count": 18,
   "metadata": {},
   "outputs": [
    {
     "data": {
      "text/plain": [
       "{'body': {'predictions': [{'classes': [{'cat': '401-1006-b',\n",
       "      'last': True,\n",
       "      'prob': 0.938021719455719}],\n",
       "    'uri': '0'}]},\n",
       " 'head': {'method': '/predict', 'service': 'records', 'time': 37.0},\n",
       " 'status': {'code': 200, 'msg': 'OK'}}"
      ]
     },
     "execution_count": 18,
     "metadata": {},
     "output_type": "execute_result"
    }
   ],
   "source": [
    "sample_doc = open('test.docx', 'rb')\n",
    "files = {'file': sample_doc}\n",
    "server = 'http://localhost:8000/record_schedule_prediction'\n",
    "r = requests.post(server, files=files)\n",
    "r.json()"
   ]
  },
  {
   "cell_type": "code",
   "execution_count": 19,
   "metadata": {},
   "outputs": [
    {
     "data": {
      "text/plain": [
       "{'body': {'predictions': [{'classes': [], 'uri': '0'}]},\n",
       " 'head': {'method': '/predict', 'service': 'records', 'time': 36.0},\n",
       " 'status': {'code': 200, 'msg': 'OK'}}"
      ]
     },
     "execution_count": 19,
     "metadata": {},
     "output_type": "execute_result"
    }
   ],
   "source": [
    "sample_pdf = open(\"test.pdf\", 'rb')\n",
    "files = {'file': sample_pdf}\n",
    "server = 'http://localhost:8000/record_schedule_prediction'\n",
    "r = requests.post(server, files=files)\n",
    "r.json()"
   ]
  },
  {
   "cell_type": "code",
   "execution_count": 51,
   "metadata": {},
   "outputs": [
    {
     "data": {
      "text/plain": [
       "{'status': {'code': 200, 'msg': 'OK'},\n",
       " 'head': {'method': '/predict', 'service': 'records', 'time': 36.0},\n",
       " 'body': {'predictions': [{'classes': [{'prob': 0.938021719455719,\n",
       "      'last': True,\n",
       "      'cat': '401-1006-b'}],\n",
       "    'uri': '0'}]}}"
      ]
     },
     "execution_count": 51,
     "metadata": {},
     "output_type": "execute_result"
    }
   ],
   "source": [
    "deep_detect_classify(doc_text, c)"
   ]
  },
  {
   "cell_type": "code",
   "execution_count": 50,
   "metadata": {},
   "outputs": [
    {
     "data": {
      "text/plain": [
       "{'status': {'code': 200, 'msg': 'OK'},\n",
       " 'head': {'method': '/predict', 'service': 'records', 'time': 37.0},\n",
       " 'body': {'predictions': [{'classes': [{'prob': 0.10436568409204483,\n",
       "      'last': True,\n",
       "      'cat': '108-1035-c'}],\n",
       "    'uri': '0'}]}}"
      ]
     },
     "execution_count": 50,
     "metadata": {},
     "output_type": "execute_result"
    }
   ],
   "source": [
    "deep_detect_classify(pdf_text, c, threshold=0.01)"
   ]
  },
  {
   "cell_type": "code",
   "execution_count": 47,
   "metadata": {},
   "outputs": [
    {
     "data": {
      "text/plain": [
       "'[bookmark: _GoBack]This is a test Word file to show how Tika can extract text.\\n'"
      ]
     },
     "execution_count": 47,
     "metadata": {},
     "output_type": "execute_result"
    }
   ],
   "source": [
    "doc_text"
   ]
  },
  {
   "cell_type": "code",
   "execution_count": 48,
   "metadata": {},
   "outputs": [
    {
     "data": {
      "text/plain": [
       "'\\nThis is a test Word file to show how Tika can extract text. \\n\\n\\n'"
      ]
     },
     "execution_count": 48,
     "metadata": {},
     "output_type": "execute_result"
    }
   ],
   "source": [
    "pdf_text"
   ]
  },
  {
   "cell_type": "code",
   "execution_count": null,
   "metadata": {},
   "outputs": [],
   "source": []
  }
 ],
 "metadata": {
  "kernelspec": {
   "display_name": "Python 3",
   "language": "python",
   "name": "python3"
  },
  "language_info": {
   "codemirror_mode": {
    "name": "ipython",
    "version": 3
   },
   "file_extension": ".py",
   "mimetype": "text/x-python",
   "name": "python",
   "nbconvert_exporter": "python",
   "pygments_lexer": "ipython3",
   "version": "3.9.0"
  }
 },
 "nbformat": 4,
 "nbformat_minor": 4
}
