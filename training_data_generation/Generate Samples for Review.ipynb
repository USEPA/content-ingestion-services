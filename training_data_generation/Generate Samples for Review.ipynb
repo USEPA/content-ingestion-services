{
 "cells": [
  {
   "cell_type": "code",
   "execution_count": 47,
   "metadata": {},
   "outputs": [],
   "source": [
    "import boto3\n",
    "import numpy as np\n",
    "import os\n",
    "from datetime import date\n",
    "\n",
    "s3 = boto3.resource('s3')\n",
    "bucket_name = 'ecms-nuxeo-testing'\n",
    "my_bucket = s3.Bucket(bucket_name)\n",
    "files = []\n",
    "for my_bucket_object in my_bucket.objects.filter(Prefix='deepdetect/'):\n",
    "    files.append(my_bucket_object)"
   ]
  },
  {
   "cell_type": "code",
   "execution_count": 56,
   "metadata": {},
   "outputs": [],
   "source": [
    "files = list(filter(lambda x: len(x.key.split('/')) == 3, files))"
   ]
  },
  {
   "cell_type": "code",
   "execution_count": 58,
   "metadata": {},
   "outputs": [],
   "source": [
    "not_nrmp = list(filter(lambda x: '_NRMP' not in x.key and '-guidance.txt' not in x.key and '-description.txt' not in x.key, files))"
   ]
  },
  {
   "cell_type": "code",
   "execution_count": 59,
   "metadata": {},
   "outputs": [],
   "source": [
    "sampled = np.random.choice(not_nrmp[1:], 1000, replace=False)\n",
    "sampled = sorted(sampled,key= lambda x: x.key.split('/')[-1])"
   ]
  },
  {
   "cell_type": "code",
   "execution_count": 60,
   "metadata": {},
   "outputs": [],
   "source": [
    "today = date.today()\n",
    "d4 = today.strftime(\"%m-%d-%Y\")"
   ]
  },
  {
   "cell_type": "code",
   "execution_count": 5,
   "metadata": {},
   "outputs": [],
   "source": [
    "folder_name = 'nrmp-review-' + d4\n",
    "if not os.path.isdir(folder_name):\n",
    "    os.mkdir(folder_name)\n",
    "s3_client = boto3.client('s3')\n",
    "for obj in sampled:\n",
    "    bucket = obj.bucket_name\n",
    "    key = obj.key\n",
    "    file_name = key.split('/')[-1]\n",
    "    with open(folder_name + '/' + file_name, 'wb') as f:\n",
    "        s3_client.download_fileobj(bucket, key, f)"
   ]
  },
  {
   "cell_type": "code",
   "execution_count": 6,
   "metadata": {},
   "outputs": [],
   "source": [
    "data = []\n",
    "for obj in sampled:\n",
    "    bucket = obj.bucket_name\n",
    "    key = obj.key\n",
    "    file_name = key.split('/')[-1]\n",
    "    record_schedule = key.split('/')[-2]\n",
    "    data.append({'file_name':file_name, 'schedule':record_schedule})"
   ]
  },
  {
   "cell_type": "code",
   "execution_count": 11,
   "metadata": {},
   "outputs": [],
   "source": [
    "import pandas as pd\n",
    "df = pd.DataFrame.from_records(data)\n",
    "df['Action'] = \"\"\n",
    "df['Comment'] = \"\""
   ]
  },
  {
   "cell_type": "code",
   "execution_count": 12,
   "metadata": {},
   "outputs": [],
   "source": [
    "names = ['File', 'Schedule', 'Action', 'Comment']\n",
    "df.to_excel('nrmp-review-sheet-' + d4 + '.xlsx', header=names, index=False)"
   ]
  },
  {
   "cell_type": "code",
   "execution_count": 35,
   "metadata": {},
   "outputs": [
    {
     "data": {
      "text/plain": [
       "'C:\\\\Users\\\\mkreisel\\\\content-ingestion-services\\\\training_data_generation\\\\Training Data QA-12-11-2020.zip'"
      ]
     },
     "execution_count": 35,
     "metadata": {},
     "output_type": "execute_result"
    }
   ],
   "source": [
    "import shutil\n",
    "shutil.make_archive('Training Data QA-' + d4, 'zip', folder_name)"
   ]
  },
  {
   "cell_type": "code",
   "execution_count": 18,
   "metadata": {},
   "outputs": [],
   "source": [
    "labeled = pd.read_excel('Training Data QA Spreadsheet_11-04-20.xlsx', engine='openpyxl')"
   ]
  },
  {
   "cell_type": "code",
   "execution_count": 24,
   "metadata": {},
   "outputs": [],
   "source": [
    "current = set(df['file_name'])\n",
    "old = set(labeled['Filename'])"
   ]
  },
  {
   "cell_type": "code",
   "execution_count": 28,
   "metadata": {},
   "outputs": [],
   "source": [
    "exclusive = current - old"
   ]
  },
  {
   "cell_type": "code",
   "execution_count": 30,
   "metadata": {},
   "outputs": [],
   "source": [
    "filtered = df[df['file_name'].isin(exclusive)]"
   ]
  },
  {
   "cell_type": "code",
   "execution_count": 31,
   "metadata": {},
   "outputs": [
    {
     "data": {
      "text/plain": [
       "980"
      ]
     },
     "execution_count": 31,
     "metadata": {},
     "output_type": "execute_result"
    }
   ],
   "source": [
    "len(filtered)"
   ]
  },
  {
   "cell_type": "code",
   "execution_count": 42,
   "metadata": {},
   "outputs": [],
   "source": [
    "filtered.to_excel('Training Data QA Spreadsheet-' + d4 + '.xlsx', header=names, index=False)"
   ]
  },
  {
   "cell_type": "code",
   "execution_count": 40,
   "metadata": {},
   "outputs": [],
   "source": [
    "filtered = filtered[filtered['schedule'] != 'deepdetect']"
   ]
  },
  {
   "cell_type": "code",
   "execution_count": null,
   "metadata": {},
   "outputs": [],
   "source": []
  }
 ],
 "metadata": {
  "kernelspec": {
   "display_name": "Python 3",
   "language": "python",
   "name": "python3"
  },
  "language_info": {
   "codemirror_mode": {
    "name": "ipython",
    "version": 3
   },
   "file_extension": ".py",
   "mimetype": "text/x-python",
   "name": "python",
   "nbconvert_exporter": "python",
   "pygments_lexer": "ipython3",
   "version": "3.9.0"
  }
 },
 "nbformat": 4,
 "nbformat_minor": 4
}
